{
 "cells": [
  {
   "cell_type": "markdown",
   "metadata": {},
   "source": [
    "## Let's have an appointment\n",
    "\n",
    "#### This script is a wab scraping toot witch will help us getting a rendez-vous at the Prefecture"
   ]
  },
  {
   "cell_type": "markdown",
   "metadata": {},
   "source": [
    "### Let's use selenium"
   ]
  },
  {
   "cell_type": "markdown",
   "metadata": {},
   "source": [
    "#### Import librairies"
   ]
  },
  {
   "cell_type": "code",
   "execution_count": null,
   "metadata": {},
   "outputs": [],
   "source": [
    "from selenium import webdriver"
   ]
  },
  {
   "cell_type": "code",
   "execution_count": null,
   "metadata": {},
   "outputs": [],
   "source": [
    "from selenium.webdriver.common.keys import Keys"
   ]
  },
  {
   "cell_type": "code",
   "execution_count": null,
   "metadata": {},
   "outputs": [],
   "source": [
    "from selenium.webdriver.chrome.options import Options"
   ]
  },
  {
   "cell_type": "code",
   "execution_count": null,
   "metadata": {},
   "outputs": [],
   "source": [
    "import time"
   ]
  },
  {
   "cell_type": "code",
   "execution_count": null,
   "metadata": {},
   "outputs": [],
   "source": [
    "from twilio.rest import Client # to send sms"
   ]
  },
  {
   "cell_type": "markdown",
   "metadata": {},
   "source": [
    "### Let's collect data"
   ]
  },
  {
   "cell_type": "markdown",
   "metadata": {},
   "source": [
    "#### Cette fonction teste toutes les options A, B, C ... pour avoir un rendez-vous"
   ]
  },
  {
   "cell_type": "markdown",
   "metadata": {},
   "source": [
    "# Tests"
   ]
  },
  {
   "cell_type": "code",
   "execution_count": null,
   "metadata": {},
   "outputs": [],
   "source": [
    "driver = webdriver.Chrome()"
   ]
  },
  {
   "cell_type": "code",
   "execution_count": null,
   "metadata": {},
   "outputs": [],
   "source": [
    "url = \"http://www.val-de-marne.gouv.fr/booking/create/4963\"\n",
    "driver.get(url)"
   ]
  },
  {
   "cell_type": "markdown",
   "metadata": {},
   "source": [
    "#### Accepter les conditions d'utilisation"
   ]
  },
  {
   "cell_type": "code",
   "execution_count": null,
   "metadata": {},
   "outputs": [],
   "source": [
    "accep_conditions_button = driver.find_element_by_xpath(\"/html/body/div[1]/div[2]/div[3]/div/div[2]/form/div[1]/input\")"
   ]
  },
  {
   "cell_type": "code",
   "execution_count": null,
   "metadata": {},
   "outputs": [],
   "source": [
    "driver.execute_script(\"window.scrollTo(0,1080)\") "
   ]
  },
  {
   "cell_type": "code",
   "execution_count": null,
   "metadata": {},
   "outputs": [],
   "source": [
    "accep_conditions_button.click()"
   ]
  },
  {
   "cell_type": "markdown",
   "metadata": {},
   "source": [
    "#### Commencer la demande"
   ]
  },
  {
   "cell_type": "code",
   "execution_count": null,
   "metadata": {},
   "outputs": [],
   "source": [
    "effectuer_demande = driver.find_element_by_xpath(\"/html/body/div[1]/div[2]/div[3]/div/div[2]/form/div[2]/input[1]\")"
   ]
  },
  {
   "cell_type": "code",
   "execution_count": null,
   "metadata": {},
   "outputs": [],
   "source": [
    "effectuer_demande.click()"
   ]
  },
  {
   "cell_type": "markdown",
   "metadata": {},
   "source": [
    "#### cocher une option"
   ]
  },
  {
   "cell_type": "code",
   "execution_count": null,
   "metadata": {},
   "outputs": [],
   "source": [
    "deposer_dossier = driver.find_element_by_xpath(\"/html/body/div[1]/div[2]/div[3]/div/div[2]/form/fieldset/p[1]/input\")"
   ]
  },
  {
   "cell_type": "code",
   "execution_count": null,
   "metadata": {},
   "outputs": [],
   "source": [
    "deposer_dossier.click()"
   ]
  },
  {
   "cell_type": "markdown",
   "metadata": {},
   "source": [
    "#### Valider l'option choisie"
   ]
  },
  {
   "cell_type": "code",
   "execution_count": null,
   "metadata": {},
   "outputs": [],
   "source": [
    "etape_suivante = driver.find_element_by_xpath(\"/html/body/div[1]/div[2]/div[3]/div/div[2]/form/div/input\")"
   ]
  },
  {
   "cell_type": "code",
   "execution_count": null,
   "metadata": {},
   "outputs": [],
   "source": [
    "etape_suivante.click()"
   ]
  },
  {
   "cell_type": "markdown",
   "metadata": {},
   "source": [
    "#### Vérification de disponibilité"
   ]
  },
  {
   "cell_type": "code",
   "execution_count": null,
   "metadata": {},
   "outputs": [],
   "source": [
    "def get_a_rdv(use_proxy,ip_port):\n",
    "    # Set proxy\n",
    "    if(use_proxy):\n",
    "        options = Options()\n",
    "        # ukraine\n",
    "        proxy_param = \"--proxy-server=\"+ip_port\n",
    "        options.add_argument(proxy_param)\n",
    "        \n",
    "        driver = webdriver.Chrome(chrome_options=options)\n",
    "        \n",
    "    else:\n",
    "        driver = webdriver.Chrome()\n",
    "        \n",
    "    # set window size\n",
    "    driver.set_window_size(1080, 1000)\n",
    "    \n",
    "    # load url\n",
    "    url = \"http://www.val-de-marne.gouv.fr/booking/create/4963\"\n",
    "    driver.get(url)\n",
    "    \n",
    "    # on coche la case pouur accepter les conditions d'utilisation\n",
    "    accep_conditions_button = driver.find_element_by_xpath(\"/html/body/div[1]/div[2]/div[3]/div/div[2]/form/div[1]/input\")\n",
    "    driver.execute_script(\"window.scrollTo(0,1080)\") \n",
    "    accep_conditions_button.click()\n",
    "    \n",
    "    # On passe à la page de choix des options de rendez-vous (A, B, C ...)\n",
    "    effectuer_demande = driver.find_element_by_xpath(\"/html/body/div[1]/div[2]/div[3]/div/div[2]/form/div[2]/input[1]\")\n",
    "    effectuer_demande.click()\n",
    "    \n",
    "    # Cocher une option\n",
    "    deposer_dossier = driver.find_element_by_xpath(\"/html/body/div[1]/div[2]/div[3]/div/div[2]/form/fieldset/p[1]/input\")\n",
    "    deposer_dossier.click()\n",
    "    \n",
    "    # Valider l'option choisie\n",
    "    etape_suivante = driver.find_element_by_xpath(\"/html/body/div[1]/div[2]/div[3]/div/div[2]/form/div/input\")\n",
    "    etape_suivante.click()\n",
    "    \n",
    "    # On récupère la liste des options\n",
    "    #option_list = [\"planning23018\", \"planning23198\", \"planning23199\", \"planning23200\", \n",
    "    #           \"planning23201\", \"planning23202\", \"planning23203\"]\n",
    "    \n",
    "    # on récupère l'url de la page courante\n",
    "    #url_choices = driver.current_url\n",
    "    \n",
    "    # On teste toutes les option pour essayer d'avoir un rendez-vous\n",
    "    #reponse = test_all_options(option_list, driver, url_choices)\n",
    "    \n",
    "    #if reponse == \"Aucun rendez-vous\":\n",
    "    #    driver.close()\n",
    "    \n",
    "    #return reponse\n",
    "    \n",
    "    "
   ]
  },
  {
   "cell_type": "code",
   "execution_count": null,
   "metadata": {
    "scrolled": true
   },
   "outputs": [],
   "source": [
    "get_a_rdv(False,\"\")"
   ]
  },
  {
   "cell_type": "code",
   "execution_count": null,
   "metadata": {},
   "outputs": [],
   "source": []
  },
  {
   "cell_type": "code",
   "execution_count": null,
   "metadata": {},
   "outputs": [],
   "source": [
    "# phone_number example : \"+33652563684\"\n",
    "def send_sms(phone_number, message):\n",
    "    \n",
    "    account_sid = \"ACeefe6eaa64ff0a81e6bc878b2a6670e0\"\n",
    "    auth_token = \"b06da7b585e0b1edd7f2e2c6c1ec7aa6\"\n",
    "    \n",
    "    client = Client(account_sid, auth_token)\n",
    "    \n",
    "    client.messages.create(\n",
    "     to=phone_number,\n",
    "     from_=\"+33644605313\",\n",
    "     body=message)"
   ]
  },
  {
   "cell_type": "code",
   "execution_count": null,
   "metadata": {
    "scrolled": true
   },
   "outputs": [],
   "source": [
    "try:\n",
    "    composant_texte = driver.find_element_by_xpath(\"/html/body/div[1]/div[2]/div[3]/div/div[2]/form\")\n",
    "    text_check_rdv = composant_texte.text\n",
    "except ValueError:\n",
    "    text_check_rdv = \"\"    "
   ]
  },
  {
   "cell_type": "code",
   "execution_count": null,
   "metadata": {},
   "outputs": [],
   "source": [
    "if (text_check_rdv == \"Il n'existe plus de plage horaire libre pour votre demande de rendez-vous. Veuillez recommencer ultérieurement.\"):\n",
    "    is_appointment = False\n",
    "else :\n",
    "    is_appointment = True\n"
   ]
  },
  {
   "cell_type": "code",
   "execution_count": null,
   "metadata": {},
   "outputs": [],
   "source": [
    "if(is_appointment):\n",
    "    send_sms(\"+33652563684\", \"There is an appointment.\")\n",
    "    time.sleep(3)\n",
    "    send_sms(\"+33652563684\", \"There is an appointment.\")\n",
    "else :\n",
    "    send_sms(\"+33652563684\", \"RAS : no appointment\")"
   ]
  },
  {
   "cell_type": "code",
   "execution_count": null,
   "metadata": {},
   "outputs": [],
   "source": [
    "send_sms(\"+33652563684\", \"test\")"
   ]
  },
  {
   "cell_type": "code",
   "execution_count": null,
   "metadata": {},
   "outputs": [],
   "source": [
    "time.sleep(3)"
   ]
  },
  {
   "cell_type": "code",
   "execution_count": null,
   "metadata": {},
   "outputs": [],
   "source": [
    "def test_all_options(option_list, driver, url_choices):\n",
    "    for i in range(1,len(option_list)):\n",
    "\n",
    "        # chargement de l'url avec les différentes options\n",
    "        driver.get(url_choices)\n",
    "\n",
    "        # click sur une des options\n",
    "        driver.find_element_by_id(option_list[i]).click()\n",
    "\n",
    "        # validation de l'option\n",
    "        driver.find_element_by_class_name(\"Bbutton\").click()\n",
    "\n",
    "        # On vérifie la disponibilité avec le contenu du bouton obtenu\n",
    "        next_step_button = driver.find_element_by_class_name(\"Bbutton\")\n",
    "\n",
    "        msg = next_step_button.get_property('title')\n",
    "\n",
    "        if msg == 'Cliquez ici pour terminer le processus':\n",
    "            print (\"tester une autre option\")\n",
    "            print(i)\n",
    "            result = \"Aucun rendez-vous\"\n",
    "\n",
    "        else:\n",
    "            print (\"on a un rdv !!!\")\n",
    "            # We end the loop\n",
    "            i = len(option_list) + 1\n",
    "            result = \"Un endez-vous trouvé\"\n",
    "\n",
    "    return result"
   ]
  },
  {
   "cell_type": "markdown",
   "metadata": {},
   "source": [
    "#### cette focntion est le programme principal permettant de prendre un dendez-vous"
   ]
  },
  {
   "cell_type": "code",
   "execution_count": null,
   "metadata": {},
   "outputs": [],
   "source": [
    "def introduction():\n",
    "    message = \"Bonjour, le script de recherche de rendez-vous à la préfecture est lancé. Tu sera informé au cas où un rendez-vous est possible. Il faudra juste te rendre sur l'odinateur de Ange ou essyer de prendre rendez-vous sur le champ via ce lien : http://www.essonne.gouv.fr/booking/create/23014/. Merci\"\n",
    "    send_sms(\"+33652563684\", message)"
   ]
  },
  {
   "cell_type": "code",
   "execution_count": null,
   "metadata": {},
   "outputs": [],
   "source": [
    "introduction()"
   ]
  },
  {
   "cell_type": "code",
   "execution_count": null,
   "metadata": {},
   "outputs": [],
   "source": [
    "choix1 = \"194.44.53.30:56827\"\n",
    "Thailand = \"118.174.220.113:53392\"\n",
    "argentina = \"181.44.177.205:46455\"\n",
    "rep_czech = \"176.74.134.6:53281\"\n",
    "# ukraine = \"93.76.239.44:43823\"\n",
    "list_ip_port_names = (\"choix1\", \"Thailand\", \"argentina\", \"rep_czech\")"
   ]
  },
  {
   "cell_type": "code",
   "execution_count": null,
   "metadata": {},
   "outputs": [],
   "source": [
    "list_ip_port = {\"choix1\" : \"194.44.53.30:56827\", \"Thailand\" : \"118.174.220.113:53392\", \"argentina\" : \"181.44.177.205:46455\", \n",
    "                   \"rep_czech\" : \"176.74.134.6:53281\"}"
   ]
  },
  {
   "cell_type": "code",
   "execution_count": null,
   "metadata": {},
   "outputs": [],
   "source": [
    "list_ip_port.get(list_ip_port_names[0])"
   ]
  },
  {
   "cell_type": "code",
   "execution_count": null,
   "metadata": {},
   "outputs": [],
   "source": [
    "get_a_rdv(False, \"118.174.220.113:53392\")"
   ]
  },
  {
   "cell_type": "code",
   "execution_count": null,
   "metadata": {},
   "outputs": [],
   "source": []
  },
  {
   "cell_type": "code",
   "execution_count": null,
   "metadata": {
    "scrolled": true
   },
   "outputs": [],
   "source": [
    "def run():\n",
    "    # on informe tous les concernés du projet par sms\n",
    "#     introduction()\n",
    "    for i in range(1, 48):\n",
    "        for j in list_ip_port_names:\n",
    "            reponse = get_a_rdv(True, list_ip_port.get(j))\n",
    "\n",
    "            if reponse == \"Aucun rendez-vous\":\n",
    "                sms = reponse + \" ; proxy : \"+j\n",
    "                send_sms(\"+33652563684\", sms)\n",
    "                time.sleep(600)\n",
    "\n",
    "            else:\n",
    "                sms = \"On a un dendez-vous. Il faut regarder l'ordinateur de Ange. Ou pourquoi pas essayer directement : http://www.essonne.gouv.fr/booking/create/23014/\"\n",
    "                send_sms(\"+33635281675\", sms)\n",
    "                send_sms(\"+33652563684\", sms)\n",
    "                time.sleep(172800)\n",
    "            "
   ]
  },
  {
   "cell_type": "code",
   "execution_count": null,
   "metadata": {
    "scrolled": true
   },
   "outputs": [],
   "source": [
    "run()"
   ]
  },
  {
   "cell_type": "code",
   "execution_count": null,
   "metadata": {
    "scrolled": true
   },
   "outputs": [],
   "source": [
    "for n in range(1,10):\n",
    "    try : \n",
    "        run()\n",
    "\n",
    "    except Exception as e: \n",
    "        print(e)\n",
    "        time.sleep(1200)\n",
    "        run()"
   ]
  },
  {
   "cell_type": "code",
   "execution_count": null,
   "metadata": {},
   "outputs": [],
   "source": [
    "# phone_number example : \"+33652563684\"\n",
    "send_sms(\"+33652563684\", \"reponse\")"
   ]
  }
 ],
 "metadata": {
  "kernelspec": {
   "display_name": "Python 3",
   "language": "python",
   "name": "python3"
  },
  "language_info": {
   "codemirror_mode": {
    "name": "ipython",
    "version": 3
   },
   "file_extension": ".py",
   "mimetype": "text/x-python",
   "name": "python",
   "nbconvert_exporter": "python",
   "pygments_lexer": "ipython3",
   "version": "3.7.6"
  },
  "widgets": {
   "application/vnd.jupyter.widget-state+json": {
    "state": {},
    "version_major": 2,
    "version_minor": 0
   }
  }
 },
 "nbformat": 4,
 "nbformat_minor": 2
}
